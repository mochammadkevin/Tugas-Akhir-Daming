{
 "cells": [
  {
   "cell_type": "code",
   "execution_count": 2,
   "metadata": {},
   "outputs": [],
   "source": [
    "import pandas as pd\n",
    "import numpy as np\n",
    "import plotly.express as px\n",
    "import matplotlib.pyplot as plt\n",
    "import seaborn as sns"
   ]
  },
  {
   "cell_type": "code",
   "execution_count": 3,
   "metadata": {},
   "outputs": [],
   "source": [
    "datajkt1 = pd.read_csv('dataset\\ispu_dki1.csv')\n",
    "datajkt2 = pd.read_csv('dataset\\ispu_dki2.csv')\n",
    "datajkt3 = pd.read_csv('dataset\\ispu_dki3.csv')\n",
    "datajkt4 = pd.read_csv('dataset\\ispu_dki4.csv')\n",
    "datajkt5 = pd.read_csv('dataset\\ispu_dki5.csv')"
   ]
  },
  {
   "cell_type": "code",
   "execution_count": 4,
   "metadata": {},
   "outputs": [
    {
     "name": "stdout",
     "output_type": "stream",
     "text": [
      "tanggal        0\n",
      "stasiun        0\n",
      "pm10         212\n",
      "so2          175\n",
      "co           150\n",
      "o3           203\n",
      "no2          193\n",
      "max            9\n",
      "critical     110\n",
      "categori       0\n",
      "pm25        4018\n",
      "dtype: int64\n"
     ]
    }
   ],
   "source": [
    "miss_value = datajkt1.isna().sum()\n",
    "print(miss_value)"
   ]
  },
  {
   "cell_type": "code",
   "execution_count": 5,
   "metadata": {},
   "outputs": [
    {
     "name": "stderr",
     "output_type": "stream",
     "text": [
      "C:\\Users\\Rahmad Ilham Sani\\AppData\\Local\\Temp\\ipykernel_5516\\2518659611.py:5: FutureWarning: The default value of numeric_only in DataFrame.mean is deprecated. In a future version, it will default to False. In addition, specifying 'numeric_only=None' is deprecated. Select only valid columns or specify the value of numeric_only to silence this warning.\n",
      "  data_filled = datajkt1.fillna(datajkt1.mean())\n"
     ]
    }
   ],
   "source": [
    "# Drop rows with missing values\n",
    "data_dropped = datajkt1.dropna()\n",
    "\n",
    "# Impute missing values with the mean\n",
    "data_filled = datajkt1.fillna(datajkt1.mean())\n",
    "\n",
    "# Optionally, you can save the processed DataFrame\n",
    "data_filled.to_csv('dataset\\processed_file.csv', index=False)"
   ]
  },
  {
   "cell_type": "code",
   "execution_count": 6,
   "metadata": {},
   "outputs": [
    {
     "name": "stdout",
     "output_type": "stream",
     "text": [
      "         tanggal             stasiun   pm10   so2    co     o3   no2    max  \\\n",
      "946   2012-08-04  DKI1 (Bunderan HI)   11.0  26.0  27.0   55.0  14.0   55.0   \n",
      "947   2012-08-05  DKI1 (Bunderan HI)    8.0  25.0  16.0   63.0  11.0   63.0   \n",
      "948   2012-08-06  DKI1 (Bunderan HI)    9.0  25.0  38.0  106.0  19.0  106.0   \n",
      "949   2012-08-07  DKI1 (Bunderan HI)    6.0  23.0  36.0  102.0  25.0  102.0   \n",
      "950   2012-08-08  DKI1 (Bunderan HI)   12.0  25.0  34.0   87.0  24.0   87.0   \n",
      "964   2012-08-22  DKI1 (Bunderan HI)    8.0  21.0  13.0   88.0  16.0   88.0   \n",
      "965   2012-08-23  DKI1 (Bunderan HI)    6.0  22.0  18.0   88.0  13.0   88.0   \n",
      "966   2012-08-24  DKI1 (Bunderan HI)    7.0  29.0  16.0   90.0  15.0   90.0   \n",
      "967   2012-08-25  DKI1 (Bunderan HI)    8.0  23.0  14.0   95.0  16.0   95.0   \n",
      "971   2012-08-29  DKI1 (Bunderan HI)   13.0  22.0  33.0   98.0  23.0   98.0   \n",
      "972   2012-08-30  DKI1 (Bunderan HI)   11.0  27.0  30.0   80.0  19.0   80.0   \n",
      "991   2012-09-18  DKI1 (Bunderan HI)   11.0  22.0  36.0   88.0  20.0   88.0   \n",
      "992   2012-09-19  DKI1 (Bunderan HI)    6.0  33.0  34.0   69.0  18.0   69.0   \n",
      "993   2012-09-20  DKI1 (Bunderan HI)    6.0  24.0  31.0   76.0  15.0   76.0   \n",
      "994   2012-09-21  DKI1 (Bunderan HI)    6.0  27.0  34.0   89.0  27.0   89.0   \n",
      "1006  2012-10-03  DKI1 (Bunderan HI)    8.0  30.0  40.0   97.0  21.0   97.0   \n",
      "1007  2012-10-04  DKI1 (Bunderan HI)    6.0  27.0  40.0   76.0  27.0   76.0   \n",
      "1058  2012-11-24  DKI1 (Bunderan HI)   11.0  30.0  31.0   84.0  18.0   84.0   \n",
      "1160  2013-03-06  DKI1 (Bunderan HI)  103.0   5.0  80.0   57.0  31.0  103.0   \n",
      "1519  2014-02-28  DKI1 (Bunderan HI)   94.0   7.0  90.0   49.0  34.0   94.0   \n",
      "1638  2014-06-27  DKI1 (Bunderan HI)   92.0  11.0  52.0   52.0  22.0   92.0   \n",
      "1870  2015-02-14  DKI1 (Bunderan HI)    7.0   8.0  35.0   40.0  16.0   40.0   \n",
      "1872  2015-02-16  DKI1 (Bunderan HI)    6.0   6.0  56.0   35.0  18.0   56.0   \n",
      "1873  2015-02-17  DKI1 (Bunderan HI)   12.0   5.0  22.0   36.0  13.0   36.0   \n",
      "1874  2015-02-18  DKI1 (Bunderan HI)    8.0   5.0  34.0   43.0  24.0   43.0   \n",
      "1875  2015-02-19  DKI1 (Bunderan HI)   11.0   7.0  16.0   41.0  13.0   41.0   \n",
      "1879  2015-02-23  DKI1 (Bunderan HI)    8.0  11.0  16.0   46.0  12.0   46.0   \n",
      "1883  2015-02-27  DKI1 (Bunderan HI)   10.0   7.0  29.0   75.0  21.0   75.0   \n",
      "2011  2015-07-05  DKI1 (Bunderan HI)   94.0  35.0  47.0   67.0  20.0   94.0   \n",
      "2501  2016-11-06  DKI1 (Bunderan HI)  104.0  32.0  42.0   46.0   5.0  104.0   \n",
      "2733  2017-06-26  DKI1 (Bunderan HI)   12.0  12.0  14.0   29.0   1.0   29.0   \n",
      "2786  2017-08-18  DKI1 (Bunderan HI)    5.0  21.0  17.0   63.0   4.0   63.0   \n",
      "2904  2017-12-14  DKI1 (Bunderan HI)   10.0  20.0  20.0   31.0   4.0   31.0   \n",
      "2923  2018-01-02  DKI1 (Bunderan HI)   14.0  18.0  12.0   17.0   1.0   18.0   \n",
      "2962  2018-02-10  DKI1 (Bunderan HI)   13.0  24.0  26.0    NaN   4.0   26.0   \n",
      "2969  2018-02-17  DKI1 (Bunderan HI)   13.0  22.0  17.0   24.0   3.0   24.0   \n",
      "3011  2018-03-31  DKI1 (Bunderan HI)   14.0  22.0  15.0   21.0   1.0   22.0   \n",
      "3016  2018-04-05  DKI1 (Bunderan HI)    8.0  24.0  25.0   16.0   4.0   25.0   \n",
      "3017  2018-04-06  DKI1 (Bunderan HI)    8.0  22.0  21.0    7.0   4.0   22.0   \n",
      "3018  2018-04-07  DKI1 (Bunderan HI)    8.0  23.0  21.0    6.0   4.0   23.0   \n",
      "3019  2018-04-08  DKI1 (Bunderan HI)    6.0  22.0  16.0    4.0   1.0   22.0   \n",
      "3020  2018-04-09  DKI1 (Bunderan HI)   11.0  22.0  20.0   10.0   3.0   22.0   \n",
      "3021  2018-04-10  DKI1 (Bunderan HI)   10.0  22.0  19.0    5.0   2.0   22.0   \n",
      "3067  2018-05-26  DKI1 (Bunderan HI)    6.0  17.0  24.0   16.0   6.0   24.0   \n",
      "3183  2018-09-19  DKI1 (Bunderan HI)    6.0  12.0  16.0   14.0   4.0   16.0   \n",
      "3184  2018-09-20  DKI1 (Bunderan HI)    8.0  11.0  19.0    8.0   3.0   19.0   \n",
      "3185  2018-09-21  DKI1 (Bunderan HI)    6.0  11.0  22.0    8.0   3.0   22.0   \n",
      "3186  2018-09-22  DKI1 (Bunderan HI)    5.0  10.0  22.0   19.0   3.0   22.0   \n",
      "3187  2018-09-23  DKI1 (Bunderan HI)    6.0  11.0  21.0   16.0   4.0   21.0   \n",
      "3283  2018-12-28  DKI1 (Bunderan HI)    4.0  13.0   NaN   63.0   NaN   63.0   \n",
      "\n",
      "     critical     categori  pm25  \n",
      "946        O3       SEDANG   NaN  \n",
      "947        O3       SEDANG   NaN  \n",
      "948        O3  TIDAK SEHAT   NaN  \n",
      "949        O3  TIDAK SEHAT   NaN  \n",
      "950        O3       SEDANG   NaN  \n",
      "964        O3       SEDANG   NaN  \n",
      "965        O3       SEDANG   NaN  \n",
      "966        O3       SEDANG   NaN  \n",
      "967        O3       SEDANG   NaN  \n",
      "971        O3       SEDANG   NaN  \n",
      "972        O3       SEDANG   NaN  \n",
      "991        O3       SEDANG   NaN  \n",
      "992        O3       SEDANG   NaN  \n",
      "993        O3       SEDANG   NaN  \n",
      "994        O3       SEDANG   NaN  \n",
      "1006       O3       SEDANG   NaN  \n",
      "1007       O3       SEDANG   NaN  \n",
      "1058       O3       SEDANG   NaN  \n",
      "1160     PM10  TIDAK SEHAT   NaN  \n",
      "1519     PM10       SEDANG   NaN  \n",
      "1638     PM10       SEDANG   NaN  \n",
      "1870       O3         BAIK   NaN  \n",
      "1872       CO       SEDANG   NaN  \n",
      "1873       O3         BAIK   NaN  \n",
      "1874       O3         BAIK   NaN  \n",
      "1875       O3         BAIK   NaN  \n",
      "1879       O3         BAIK   NaN  \n",
      "1883       O3       SEDANG   NaN  \n",
      "2011     PM10       SEDANG   NaN  \n",
      "2501     PM10  TIDAK SEHAT   NaN  \n",
      "2733       O3         BAIK   NaN  \n",
      "2786       O3       SEDANG   NaN  \n",
      "2904       O3         BAIK   NaN  \n",
      "2923      SO2         BAIK   NaN  \n",
      "2962       CO         BAIK   NaN  \n",
      "2969       O3         BAIK   NaN  \n",
      "3011      SO2         BAIK   NaN  \n",
      "3016       CO         BAIK   NaN  \n",
      "3017      SO2         BAIK   NaN  \n",
      "3018      SO2         BAIK   NaN  \n",
      "3019      SO2         BAIK   NaN  \n",
      "3020      SO2         BAIK   NaN  \n",
      "3021      SO2         BAIK   NaN  \n",
      "3067       CO         BAIK   NaN  \n",
      "3183       CO         BAIK   NaN  \n",
      "3184       CO         BAIK   NaN  \n",
      "3185       CO         BAIK   NaN  \n",
      "3186       CO         BAIK   NaN  \n",
      "3187       CO         BAIK   NaN  \n",
      "3283       O3       SEDANG   NaN  \n"
     ]
    }
   ],
   "source": [
    "def detect_outliers(df, column):\n",
    "    Q1 = df[column].quantile(0.25)\n",
    "    Q3 = df[column].quantile(0.75)\n",
    "    IQR = Q3 - Q1\n",
    "    lower_bound = Q1 - 1.5 * IQR\n",
    "    upper_bound = Q3 + 1.5 * IQR\n",
    "    \n",
    "    outliers = df[(df[column] < lower_bound) | (df[column] > upper_bound)]\n",
    "    return outliers\n",
    "\n",
    "\n",
    "outliers_pm10 = detect_outliers(datajkt1, 'pm10')\n",
    "\n",
    "# Display the outliers\n",
    "print(outliers_pm10)"
   ]
  },
  {
   "cell_type": "code",
   "execution_count": 7,
   "metadata": {},
   "outputs": [
    {
     "name": "stdout",
     "output_type": "stream",
     "text": [
      "         tanggal             stasiun  pm10   so2    co    o3   no2   max  \\\n",
      "0     2010-01-01  DKI1 (Bunderan HI)  60.0   4.0  73.0  27.0  14.0  73.0   \n",
      "19    2010-01-20  DKI1 (Bunderan HI)  61.0   5.0  63.0  16.0  17.0  63.0   \n",
      "27    2010-01-28  DKI1 (Bunderan HI)  72.0   8.0  55.0  20.0  17.0  72.0   \n",
      "36    2010-02-06  DKI1 (Bunderan HI)  65.0   8.0  59.0  24.0  15.0  65.0   \n",
      "44    2010-02-14  DKI1 (Bunderan HI)  55.0   6.0  61.0  16.0  13.0  61.0   \n",
      "...          ...                 ...   ...   ...   ...   ...   ...   ...   \n",
      "1849  2015-01-24  DKI1 (Bunderan HI)  52.0   5.0  67.0  41.0  21.0  67.0   \n",
      "1872  2015-02-16  DKI1 (Bunderan HI)   6.0   6.0  56.0  35.0  18.0  56.0   \n",
      "1877  2015-02-21  DKI1 (Bunderan HI)  24.0   9.0  60.0  57.0  20.0  60.0   \n",
      "1950  2015-05-05  DKI1 (Bunderan HI)  63.0   NaN  55.0  62.0  23.0  63.0   \n",
      "2234  2016-02-13  DKI1 (Bunderan HI)  52.0  31.0  55.0  52.0   NaN  55.0   \n",
      "\n",
      "     critical categori  pm25  \n",
      "0          CO   SEDANG   NaN  \n",
      "19         CO   SEDANG   NaN  \n",
      "27       PM10   SEDANG   NaN  \n",
      "36       PM10   SEDANG   NaN  \n",
      "44         CO   SEDANG   NaN  \n",
      "...       ...      ...   ...  \n",
      "1849       CO   SEDANG   NaN  \n",
      "1872       CO   SEDANG   NaN  \n",
      "1877       CO   SEDANG   NaN  \n",
      "1950     PM10   SEDANG   NaN  \n",
      "2234       CO   SEDANG   NaN  \n",
      "\n",
      "[83 rows x 11 columns]\n"
     ]
    }
   ],
   "source": [
    "outliers_co = detect_outliers(datajkt1, 'co')\n",
    "\n",
    "# Display the outliers\n",
    "print(outliers_co)"
   ]
  }
 ],
 "metadata": {
  "kernelspec": {
   "display_name": "Python 3",
   "language": "python",
   "name": "python3"
  },
  "language_info": {
   "codemirror_mode": {
    "name": "ipython",
    "version": 3
   },
   "file_extension": ".py",
   "mimetype": "text/x-python",
   "name": "python",
   "nbconvert_exporter": "python",
   "pygments_lexer": "ipython3",
   "version": "3.11.2"
  }
 },
 "nbformat": 4,
 "nbformat_minor": 2
}
