{
  "cells": [
    {
      "cell_type": "code",
      "execution_count": 1,
      "metadata": {
        "id": "DoP82b6MbK6K"
      },
      "outputs": [],
      "source": [
        "path = \"dataset/praprocessed_dataset.csv\""
      ]
    },
    {
      "cell_type": "code",
      "execution_count": 23,
      "metadata": {
        "id": "PCinpyw7bktJ"
      },
      "outputs": [],
      "source": [
        "import pandas as pd\n",
        "import seaborn as sns\n",
        "from sklearn.model_selection import train_test_split\n",
        "from sklearn.tree import DecisionTreeClassifier\n",
        "from sklearn.metrics import classification_report, confusion_matrix\n",
        "from sklearn.preprocessing import StandardScaler\n",
        "from sklearn.ensemble import RandomForestClassifier\n",
        "from sklearn.model_selection import GridSearchCV\n",
        "from sklearn.model_selection import RandomizedSearchCV"
      ]
    },
    {
      "cell_type": "code",
      "execution_count": 3,
      "metadata": {
        "id": "oCiVAworbmuv"
      },
      "outputs": [],
      "source": [
        "data = pd.read_csv(path)"
      ]
    },
    {
      "cell_type": "code",
      "execution_count": 4,
      "metadata": {
        "colab": {
          "base_uri": "https://localhost:8080/",
          "height": 293
        },
        "id": "fzDRJZeMbrdE",
        "outputId": "fb00efb2-38eb-420a-958f-007ac1aa55d1"
      },
      "outputs": [
        {
          "data": {
            "text/html": [
              "<div>\n",
              "<style scoped>\n",
              "    .dataframe tbody tr th:only-of-type {\n",
              "        vertical-align: middle;\n",
              "    }\n",
              "\n",
              "    .dataframe tbody tr th {\n",
              "        vertical-align: top;\n",
              "    }\n",
              "\n",
              "    .dataframe thead th {\n",
              "        text-align: right;\n",
              "    }\n",
              "</style>\n",
              "<table border=\"1\" class=\"dataframe\">\n",
              "  <thead>\n",
              "    <tr style=\"text-align: right;\">\n",
              "      <th></th>\n",
              "      <th>tanggal</th>\n",
              "      <th>stasiun</th>\n",
              "      <th>pm10</th>\n",
              "      <th>so2</th>\n",
              "      <th>co</th>\n",
              "      <th>o3</th>\n",
              "      <th>no2</th>\n",
              "      <th>max</th>\n",
              "      <th>critical</th>\n",
              "      <th>categori</th>\n",
              "    </tr>\n",
              "  </thead>\n",
              "  <tbody>\n",
              "    <tr>\n",
              "      <th>0</th>\n",
              "      <td>2010-01-01</td>\n",
              "      <td>DKI1 (Bunderan HI)</td>\n",
              "      <td>60.0</td>\n",
              "      <td>4.0</td>\n",
              "      <td>73.0</td>\n",
              "      <td>27.0</td>\n",
              "      <td>14.0</td>\n",
              "      <td>73.0</td>\n",
              "      <td>CO</td>\n",
              "      <td>SEDANG</td>\n",
              "    </tr>\n",
              "    <tr>\n",
              "      <th>1</th>\n",
              "      <td>2010-01-02</td>\n",
              "      <td>DKI1 (Bunderan HI)</td>\n",
              "      <td>32.0</td>\n",
              "      <td>2.0</td>\n",
              "      <td>16.0</td>\n",
              "      <td>33.0</td>\n",
              "      <td>9.0</td>\n",
              "      <td>33.0</td>\n",
              "      <td>O3</td>\n",
              "      <td>BAIK</td>\n",
              "    </tr>\n",
              "    <tr>\n",
              "      <th>2</th>\n",
              "      <td>2010-01-03</td>\n",
              "      <td>DKI1 (Bunderan HI)</td>\n",
              "      <td>27.0</td>\n",
              "      <td>2.0</td>\n",
              "      <td>19.0</td>\n",
              "      <td>20.0</td>\n",
              "      <td>9.0</td>\n",
              "      <td>27.0</td>\n",
              "      <td>PM10</td>\n",
              "      <td>BAIK</td>\n",
              "    </tr>\n",
              "    <tr>\n",
              "      <th>3</th>\n",
              "      <td>2010-01-04</td>\n",
              "      <td>DKI1 (Bunderan HI)</td>\n",
              "      <td>22.0</td>\n",
              "      <td>2.0</td>\n",
              "      <td>16.0</td>\n",
              "      <td>15.0</td>\n",
              "      <td>6.0</td>\n",
              "      <td>22.0</td>\n",
              "      <td>PM10</td>\n",
              "      <td>BAIK</td>\n",
              "    </tr>\n",
              "    <tr>\n",
              "      <th>4</th>\n",
              "      <td>2010-01-05</td>\n",
              "      <td>DKI1 (Bunderan HI)</td>\n",
              "      <td>25.0</td>\n",
              "      <td>2.0</td>\n",
              "      <td>17.0</td>\n",
              "      <td>15.0</td>\n",
              "      <td>8.0</td>\n",
              "      <td>25.0</td>\n",
              "      <td>PM10</td>\n",
              "      <td>BAIK</td>\n",
              "    </tr>\n",
              "  </tbody>\n",
              "</table>\n",
              "</div>"
            ],
            "text/plain": [
              "      tanggal             stasiun  pm10  so2    co    o3   no2   max critical  \\\n",
              "0  2010-01-01  DKI1 (Bunderan HI)  60.0  4.0  73.0  27.0  14.0  73.0       CO   \n",
              "1  2010-01-02  DKI1 (Bunderan HI)  32.0  2.0  16.0  33.0   9.0  33.0       O3   \n",
              "2  2010-01-03  DKI1 (Bunderan HI)  27.0  2.0  19.0  20.0   9.0  27.0     PM10   \n",
              "3  2010-01-04  DKI1 (Bunderan HI)  22.0  2.0  16.0  15.0   6.0  22.0     PM10   \n",
              "4  2010-01-05  DKI1 (Bunderan HI)  25.0  2.0  17.0  15.0   8.0  25.0     PM10   \n",
              "\n",
              "  categori  \n",
              "0   SEDANG  \n",
              "1     BAIK  \n",
              "2     BAIK  \n",
              "3     BAIK  \n",
              "4     BAIK  "
            ]
          },
          "execution_count": 4,
          "metadata": {},
          "output_type": "execute_result"
        }
      ],
      "source": [
        "data.head()"
      ]
    },
    {
      "cell_type": "code",
      "execution_count": 5,
      "metadata": {
        "colab": {
          "base_uri": "https://localhost:8080/"
        },
        "id": "K6zEbJZwbwGs",
        "outputId": "09ab249c-3272-4342-ea56-b393770cb9af"
      },
      "outputs": [
        {
          "name": "stdout",
          "output_type": "stream",
          "text": [
            "<class 'pandas.core.frame.DataFrame'>\n",
            "RangeIndex: 19536 entries, 0 to 19535\n",
            "Data columns (total 10 columns):\n",
            " #   Column    Non-Null Count  Dtype  \n",
            "---  ------    --------------  -----  \n",
            " 0   tanggal   19536 non-null  object \n",
            " 1   stasiun   19536 non-null  object \n",
            " 2   pm10      18778 non-null  float64\n",
            " 3   so2       18968 non-null  float64\n",
            " 4   co        19144 non-null  float64\n",
            " 5   o3        18890 non-null  float64\n",
            " 6   no2       19008 non-null  float64\n",
            " 7   max       19536 non-null  float64\n",
            " 8   critical  19536 non-null  object \n",
            " 9   categori  19536 non-null  object \n",
            "dtypes: float64(6), object(4)\n",
            "memory usage: 1.5+ MB\n"
          ]
        }
      ],
      "source": [
        "data.info()"
      ]
    },
    {
      "cell_type": "code",
      "execution_count": 6,
      "metadata": {
        "colab": {
          "base_uri": "https://localhost:8080/"
        },
        "id": "fSLAuAbIb-ti",
        "outputId": "3d168970-b61b-4016-ad95-62ac9b7f64ac"
      },
      "outputs": [
        {
          "data": {
            "text/plain": [
              "tanggal       0\n",
              "stasiun       0\n",
              "pm10        758\n",
              "so2         568\n",
              "co          392\n",
              "o3          646\n",
              "no2         528\n",
              "max           0\n",
              "critical      0\n",
              "categori      0\n",
              "dtype: int64"
            ]
          },
          "execution_count": 6,
          "metadata": {},
          "output_type": "execute_result"
        }
      ],
      "source": [
        "# count missing values each row\n",
        "data.isnull().sum()"
      ]
    },
    {
      "cell_type": "code",
      "execution_count": 7,
      "metadata": {
        "id": "fQ5kV-5IcLY9"
      },
      "outputs": [],
      "source": [
        "# Drop rows with any missing values\n",
        "data.dropna(axis=0, inplace=True)"
      ]
    },
    {
      "cell_type": "code",
      "execution_count": 8,
      "metadata": {
        "colab": {
          "base_uri": "https://localhost:8080/"
        },
        "id": "GbpjKPd0cb31",
        "outputId": "077e2ee3-3687-419f-9204-b8b2012d98bd"
      },
      "outputs": [
        {
          "data": {
            "text/plain": [
              "tanggal     0\n",
              "stasiun     0\n",
              "pm10        0\n",
              "so2         0\n",
              "co          0\n",
              "o3          0\n",
              "no2         0\n",
              "max         0\n",
              "critical    0\n",
              "categori    0\n",
              "dtype: int64"
            ]
          },
          "execution_count": 8,
          "metadata": {},
          "output_type": "execute_result"
        }
      ],
      "source": [
        "# count missing values each row\n",
        "data.isnull().sum()"
      ]
    },
    {
      "cell_type": "code",
      "execution_count": 9,
      "metadata": {
        "colab": {
          "base_uri": "https://localhost:8080/"
        },
        "id": "xTMXlTxhcdMO",
        "outputId": "1e38e63c-c6a2-4991-f3ab-47d2b603b5cd"
      },
      "outputs": [
        {
          "name": "stdout",
          "output_type": "stream",
          "text": [
            "['DKI1 (Bunderan HI)' 'DKI2 (Kelapa Gading)' 'DKI3 (Jagakarsa)'\n",
            " 'DKI4 (Lubang Buaya)' 'DKI5 (Kebon Jeruk)']\n"
          ]
        }
      ],
      "source": [
        "unique_stations = data['stasiun'].unique()\n",
        "print(unique_stations)"
      ]
    },
    {
      "cell_type": "code",
      "execution_count": 10,
      "metadata": {
        "id": "Kx2fVfLFc3LT"
      },
      "outputs": [],
      "source": [
        "# Convert remaining categorical variables to numerical using one-hot encoding\n",
        "data = pd.get_dummies(data, columns=['stasiun', 'critical'])"
      ]
    },
    {
      "cell_type": "code",
      "execution_count": 11,
      "metadata": {
        "colab": {
          "base_uri": "https://localhost:8080/",
          "height": 347
        },
        "id": "eYGosi7tdH0F",
        "outputId": "a4154b72-f212-44ec-ad42-116b0254d921"
      },
      "outputs": [
        {
          "data": {
            "text/html": [
              "<div>\n",
              "<style scoped>\n",
              "    .dataframe tbody tr th:only-of-type {\n",
              "        vertical-align: middle;\n",
              "    }\n",
              "\n",
              "    .dataframe tbody tr th {\n",
              "        vertical-align: top;\n",
              "    }\n",
              "\n",
              "    .dataframe thead th {\n",
              "        text-align: right;\n",
              "    }\n",
              "</style>\n",
              "<table border=\"1\" class=\"dataframe\">\n",
              "  <thead>\n",
              "    <tr style=\"text-align: right;\">\n",
              "      <th></th>\n",
              "      <th>tanggal</th>\n",
              "      <th>pm10</th>\n",
              "      <th>so2</th>\n",
              "      <th>co</th>\n",
              "      <th>o3</th>\n",
              "      <th>no2</th>\n",
              "      <th>max</th>\n",
              "      <th>categori</th>\n",
              "      <th>stasiun_DKI1 (Bunderan HI)</th>\n",
              "      <th>stasiun_DKI2 (Kelapa Gading)</th>\n",
              "      <th>stasiun_DKI3 (Jagakarsa)</th>\n",
              "      <th>stasiun_DKI4 (Lubang Buaya)</th>\n",
              "      <th>stasiun_DKI5 (Kebon Jeruk)</th>\n",
              "      <th>critical_CO</th>\n",
              "      <th>critical_NO2</th>\n",
              "      <th>critical_O3</th>\n",
              "      <th>critical_PM10</th>\n",
              "      <th>critical_PM25</th>\n",
              "      <th>critical_SO2</th>\n",
              "    </tr>\n",
              "  </thead>\n",
              "  <tbody>\n",
              "    <tr>\n",
              "      <th>0</th>\n",
              "      <td>2010-01-01</td>\n",
              "      <td>60.0</td>\n",
              "      <td>4.0</td>\n",
              "      <td>73.0</td>\n",
              "      <td>27.0</td>\n",
              "      <td>14.0</td>\n",
              "      <td>73.0</td>\n",
              "      <td>SEDANG</td>\n",
              "      <td>True</td>\n",
              "      <td>False</td>\n",
              "      <td>False</td>\n",
              "      <td>False</td>\n",
              "      <td>False</td>\n",
              "      <td>True</td>\n",
              "      <td>False</td>\n",
              "      <td>False</td>\n",
              "      <td>False</td>\n",
              "      <td>False</td>\n",
              "      <td>False</td>\n",
              "    </tr>\n",
              "    <tr>\n",
              "      <th>1</th>\n",
              "      <td>2010-01-02</td>\n",
              "      <td>32.0</td>\n",
              "      <td>2.0</td>\n",
              "      <td>16.0</td>\n",
              "      <td>33.0</td>\n",
              "      <td>9.0</td>\n",
              "      <td>33.0</td>\n",
              "      <td>BAIK</td>\n",
              "      <td>True</td>\n",
              "      <td>False</td>\n",
              "      <td>False</td>\n",
              "      <td>False</td>\n",
              "      <td>False</td>\n",
              "      <td>False</td>\n",
              "      <td>False</td>\n",
              "      <td>True</td>\n",
              "      <td>False</td>\n",
              "      <td>False</td>\n",
              "      <td>False</td>\n",
              "    </tr>\n",
              "    <tr>\n",
              "      <th>2</th>\n",
              "      <td>2010-01-03</td>\n",
              "      <td>27.0</td>\n",
              "      <td>2.0</td>\n",
              "      <td>19.0</td>\n",
              "      <td>20.0</td>\n",
              "      <td>9.0</td>\n",
              "      <td>27.0</td>\n",
              "      <td>BAIK</td>\n",
              "      <td>True</td>\n",
              "      <td>False</td>\n",
              "      <td>False</td>\n",
              "      <td>False</td>\n",
              "      <td>False</td>\n",
              "      <td>False</td>\n",
              "      <td>False</td>\n",
              "      <td>False</td>\n",
              "      <td>True</td>\n",
              "      <td>False</td>\n",
              "      <td>False</td>\n",
              "    </tr>\n",
              "    <tr>\n",
              "      <th>3</th>\n",
              "      <td>2010-01-04</td>\n",
              "      <td>22.0</td>\n",
              "      <td>2.0</td>\n",
              "      <td>16.0</td>\n",
              "      <td>15.0</td>\n",
              "      <td>6.0</td>\n",
              "      <td>22.0</td>\n",
              "      <td>BAIK</td>\n",
              "      <td>True</td>\n",
              "      <td>False</td>\n",
              "      <td>False</td>\n",
              "      <td>False</td>\n",
              "      <td>False</td>\n",
              "      <td>False</td>\n",
              "      <td>False</td>\n",
              "      <td>False</td>\n",
              "      <td>True</td>\n",
              "      <td>False</td>\n",
              "      <td>False</td>\n",
              "    </tr>\n",
              "    <tr>\n",
              "      <th>4</th>\n",
              "      <td>2010-01-05</td>\n",
              "      <td>25.0</td>\n",
              "      <td>2.0</td>\n",
              "      <td>17.0</td>\n",
              "      <td>15.0</td>\n",
              "      <td>8.0</td>\n",
              "      <td>25.0</td>\n",
              "      <td>BAIK</td>\n",
              "      <td>True</td>\n",
              "      <td>False</td>\n",
              "      <td>False</td>\n",
              "      <td>False</td>\n",
              "      <td>False</td>\n",
              "      <td>False</td>\n",
              "      <td>False</td>\n",
              "      <td>False</td>\n",
              "      <td>True</td>\n",
              "      <td>False</td>\n",
              "      <td>False</td>\n",
              "    </tr>\n",
              "  </tbody>\n",
              "</table>\n",
              "</div>"
            ],
            "text/plain": [
              "      tanggal  pm10  so2    co    o3   no2   max categori  \\\n",
              "0  2010-01-01  60.0  4.0  73.0  27.0  14.0  73.0   SEDANG   \n",
              "1  2010-01-02  32.0  2.0  16.0  33.0   9.0  33.0     BAIK   \n",
              "2  2010-01-03  27.0  2.0  19.0  20.0   9.0  27.0     BAIK   \n",
              "3  2010-01-04  22.0  2.0  16.0  15.0   6.0  22.0     BAIK   \n",
              "4  2010-01-05  25.0  2.0  17.0  15.0   8.0  25.0     BAIK   \n",
              "\n",
              "   stasiun_DKI1 (Bunderan HI)  stasiun_DKI2 (Kelapa Gading)  \\\n",
              "0                        True                         False   \n",
              "1                        True                         False   \n",
              "2                        True                         False   \n",
              "3                        True                         False   \n",
              "4                        True                         False   \n",
              "\n",
              "   stasiun_DKI3 (Jagakarsa)  stasiun_DKI4 (Lubang Buaya)  \\\n",
              "0                     False                        False   \n",
              "1                     False                        False   \n",
              "2                     False                        False   \n",
              "3                     False                        False   \n",
              "4                     False                        False   \n",
              "\n",
              "   stasiun_DKI5 (Kebon Jeruk)  critical_CO  critical_NO2  critical_O3  \\\n",
              "0                       False         True         False        False   \n",
              "1                       False        False         False         True   \n",
              "2                       False        False         False        False   \n",
              "3                       False        False         False        False   \n",
              "4                       False        False         False        False   \n",
              "\n",
              "   critical_PM10  critical_PM25  critical_SO2  \n",
              "0          False          False         False  \n",
              "1          False          False         False  \n",
              "2           True          False         False  \n",
              "3           True          False         False  \n",
              "4           True          False         False  "
            ]
          },
          "execution_count": 11,
          "metadata": {},
          "output_type": "execute_result"
        }
      ],
      "source": [
        "data.head()"
      ]
    },
    {
      "cell_type": "code",
      "execution_count": 12,
      "metadata": {
        "id": "TqWbd9sddUJP"
      },
      "outputs": [],
      "source": [
        "# Splitting the dataset into features and target variable\n",
        "X = data.drop(columns=['tanggal', 'categori'])  # Features\n",
        "y = data['categori']  # Target variable"
      ]
    },
    {
      "cell_type": "code",
      "execution_count": 13,
      "metadata": {
        "colab": {
          "base_uri": "https://localhost:8080/"
        },
        "id": "jxiIQ6XNdPtm",
        "outputId": "35a6b329-44ef-493e-8a77-72fa1694dfc8"
      },
      "outputs": [
        {
          "name": "stdout",
          "output_type": "stream",
          "text": [
            "Total train data : 11980\n",
            "Total test data : 5135\n"
          ]
        }
      ],
      "source": [
        "# Split the data into training and testing sets\n",
        "X_train, X_test, y_train, y_test = train_test_split(X, y, test_size=0.3, random_state=42)\n",
        "\n",
        "# Initialize the DecisionTreeClassifier\n",
        "dtree = DecisionTreeClassifier(random_state=42, max_depth=5, min_samples_split=20, min_samples_leaf=10)\n",
        "\n",
        "# Train the model\n",
        "dtree.fit(X_train, y_train)\n",
        "\n",
        "# Make predictions\n",
        "y_pred = dtree.predict(X_test)\n",
        "\n",
        "print(f\"Total train data : {len(X_train)}\")\n",
        "print(f\"Total test data : {len(X_test)}\")"
      ]
    },
    {
      "cell_type": "code",
      "execution_count": 14,
      "metadata": {
        "colab": {
          "base_uri": "https://localhost:8080/"
        },
        "id": "aROyavJFd5Bx",
        "outputId": "9df5f51d-e71a-4935-f72e-3e565f6b9482"
      },
      "outputs": [
        {
          "name": "stdout",
          "output_type": "stream",
          "text": [
            "                    precision    recall  f1-score   support\n",
            "\n",
            "              BAIK       1.00      1.00      1.00       928\n",
            "SANGAT TIDAK SEHAT       1.00      1.00      1.00        41\n",
            "            SEDANG       1.00      1.00      1.00      3445\n",
            "       TIDAK SEHAT       1.00      1.00      1.00       721\n",
            "\n",
            "          accuracy                           1.00      5135\n",
            "         macro avg       1.00      1.00      1.00      5135\n",
            "      weighted avg       1.00      1.00      1.00      5135\n",
            "\n",
            "[[ 927    0    1    0]\n",
            " [   0   41    0    0]\n",
            " [   1    0 3444    0]\n",
            " [   0    0    0  721]]\n"
          ]
        }
      ],
      "source": [
        "# Initialize the Decision Tree classifier\n",
        "model = DecisionTreeClassifier()\n",
        "\n",
        "# Train the model\n",
        "model.fit(X_train, y_train)\n",
        "\n",
        "# Predict the labels for test set\n",
        "y_pred = model.predict(X_test)\n",
        "\n",
        "# Evaluate the model\n",
        "print(classification_report(y_test, y_pred))\n",
        "print(confusion_matrix(y_test, y_pred))"
      ]
    },
    {
      "cell_type": "code",
      "execution_count": 15,
      "metadata": {
        "colab": {
          "base_uri": "https://localhost:8080/",
          "height": 447
        },
        "id": "ZVcnkv9oe2xj",
        "outputId": "f627777b-c0c4-4f23-eaf6-9701ba0ebff8"
      },
      "outputs": [
        {
          "data": {
            "text/plain": [
              "<Axes: >"
            ]
          },
          "execution_count": 15,
          "metadata": {},
          "output_type": "execute_result"
        },
        {
          "data": {
            "image/png": "[encoded data removed]",
            "text/plain": [
              "<Figure size 640x480 with 2 Axes>"
            ]
          },
          "metadata": {},
          "output_type": "display_data"
        }
      ],
      "source": [
        "# show confusion matrix\n",
        "sns.heatmap(confusion_matrix(y_test,y_pred), annot=True)"
      ]
    },
    {
      "cell_type": "code",
      "execution_count": 19,
      "metadata": {
        "colab": {
          "base_uri": "https://localhost:8080/",
          "height": 708
        },
        "id": "Ad4x14Zle-Q_",
        "outputId": "10a32b49-7a0d-4af7-fe40-ebd7bd1a9f95"
      },
      "outputs": [
        {
          "name": "stdout",
          "output_type": "stream",
          "text": [
            "              precision    recall  f1-score   support\n",
            "\n",
            "           0       1.00      1.00      1.00       928\n",
            "           2       0.98      1.00      0.99        41\n",
            "           3       1.00      1.00      1.00      3445\n",
            "           4       1.00      1.00      1.00       721\n",
            "\n",
            "    accuracy                           1.00      5135\n",
            "   macro avg       0.99      1.00      1.00      5135\n",
            "weighted avg       1.00      1.00      1.00      5135\n",
            "\n",
            "[[ 927    0    1    0]\n",
            " [   0   41    0    0]\n",
            " [   0    0 3445    0]\n",
            " [   0    1    0  720]]\n"
          ]
        },
        {
          "data": {
            "text/plain": [
              "<Axes: >"
            ]
          },
          "execution_count": 19,
          "metadata": {},
          "output_type": "execute_result"
        },
        {
          "data": {
            "image/png": "[encoded data removed]",
            "text/plain": [
              "<Figure size 640x480 with 2 Axes>"
            ]
          },
          "metadata": {},
          "output_type": "display_data"
        }
      ],
      "source": [
        "from sklearn.preprocessing import LabelEncoder\n",
        "import xgboost as xgb\n",
        "\n",
        "# Inisialisasi LabelEncoder\n",
        "label_encoder = LabelEncoder()\n",
        "\n",
        "# Melakukan encoding pada label kelas\n",
        "y_train_encoded = label_encoder.fit_transform(y_train)\n",
        "y_test_encoded = label_encoder.transform(y_test)\n",
        "\n",
        "# Initialize XGBoost classifier\n",
        "model_xgb = xgb.XGBClassifier()\n",
        "\n",
        "# Latih model\n",
        "model_xgb.fit(X_train, y_train_encoded)\n",
        "\n",
        "# Lakukan prediksi\n",
        "y_pred_xgb = model_xgb.predict(X_test)\n",
        "\n",
        "# Evaluasi model\n",
        "print(classification_report(y_test_encoded, y_pred_xgb))\n",
        "print(confusion_matrix(y_test_encoded, y_pred_xgb))\n",
        "\n",
        "# Tampilkan confusion matrix\n",
        "sns.heatmap(confusion_matrix(y_test_encoded, y_pred_xgb), annot=True)\n"
      ]
    },
    {
      "cell_type": "code",
      "execution_count": 24,
      "metadata": {},
      "outputs": [],
      "source": [
        "from sklearn.preprocessing import LabelEncoder\n",
        "from sklearn.model_selection import train_test_split\n",
        "from sklearn.tree import DecisionTreeRegressor\n",
        "from sklearn.metrics import r2_score, mean_absolute_error, mean_squared_error\n",
        "import matplotlib.pyplot as plt\n",
        "import numpy as np"
      ]
    },
    {
      "cell_type": "code",
      "execution_count": 25,
      "metadata": {},
      "outputs": [],
      "source": [
        "# Lakukan encoding pada fitur kategorikal\n",
        "data2 = pd.read_csv(path)\n",
        "le = LabelEncoder()\n",
        "data2.dropna(axis=0, inplace=True)\n",
        "data2[\"critical\"] = le.fit_transform(data2[\"critical\"])\n",
        "data2[\"categori\"] = le.fit_transform(data2[\"categori\"])\n",
        "data2[\"stasiun\"] = le.fit_transform(data2[\"stasiun\"])"
      ]
    },
    {
      "cell_type": "code",
      "execution_count": 26,
      "metadata": {},
      "outputs": [],
      "source": [
        "# Pisahkan fitur dan target\n",
        "X = data2.drop(columns=['tanggal', 'categori'])\n",
        "y = data2['categori']"
      ]
    },
    {
      "cell_type": "code",
      "execution_count": 27,
      "metadata": {},
      "outputs": [
        {
          "name": "stdout",
          "output_type": "stream",
          "text": [
            "Machine Learning Approach - Decision Tree\n",
            "r2: 1.0\n",
            "MAE: 0.0\n",
            "RMSE: 0.0\n"
          ]
        },
        {
          "data": {
            "image/png": "[encoded data removed]",
            "text/plain": [
              "<Figure size 640x480 with 1 Axes>"
            ]
          },
          "metadata": {},
          "output_type": "display_data"
        }
      ],
      "source": [
        "# Bagi data menjadi set pelatihan dan pengujian\n",
        "X_train, X_test, y_train, y_test = train_test_split(X, y, test_size=0.2, random_state=42)\n",
        "\n",
        "# Inisialisasi model Decision Tree\n",
        "model2 = DecisionTreeRegressor()\n",
        "\n",
        "# Latih model pada set pelatihan\n",
        "model2.fit(X_train, y_train)\n",
        "\n",
        "# Prediksi menggunakan set pengujian\n",
        "y_pred = model2.predict(X_test).flatten()\n",
        "\n",
        "# Evaluasi performa model menggunakan metrik regresi\n",
        "r2 = r2_score(y_test, y_pred)\n",
        "mae = mean_absolute_error(y_test, y_pred)\n",
        "rmse = (mean_squared_error(y_test, y_pred)**0.5)\n",
        "\n",
        "# Tampilkan hasil evaluasi\n",
        "print(\"Machine Learning Approach - Decision Tree\")\n",
        "print(\"r2:\", r2)\n",
        "print(\"MAE:\", mae)\n",
        "print(\"RMSE:\", rmse)\n",
        "\n",
        "# Plot hasil prediksi\n",
        "plt.scatter(y_test, y_pred)\n",
        "plt.plot(np.arange(0,50), np.arange(0, 50), color = 'green')\n",
        "plt.grid(True)\n",
        "plt.xlabel('True Values')\n",
        "plt.ylabel('Predictions')\n",
        "plt.show()"
      ]
    }
  ],
  "metadata": {
    "colab": {
      "provenance": []
    },
    "kernelspec": {
      "display_name": "Python 3",
      "name": "python3"
    },
    "language_info": {
      "codemirror_mode": {
        "name": "ipython",
        "version": 3
      },
      "file_extension": ".py",
      "mimetype": "text/x-python",
      "name": "python",
      "nbconvert_exporter": "python",
      "pygments_lexer": "ipython3",
      "version": "3.11.0"
    }
  },
  "nbformat": 4,
  "nbformat_minor": 0
}
